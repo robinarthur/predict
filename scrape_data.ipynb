{
 "cells": [
  {
   "cell_type": "code",
   "execution_count": 34,
   "metadata": {
    "collapsed": false
   },
   "outputs": [],
   "source": [
    "import os\n",
    "from six.moves import urllib\n",
    "\n",
    "#football data\n",
    "DOWNLOAD_ROOT = \"http://football-data.co.uk/mmz4281/\"\n",
    "GAMES_PATH = os.path.join(\"datasets\", \"games\")"
   ]
  },
  {
   "cell_type": "code",
   "execution_count": 36,
   "metadata": {
    "collapsed": false
   },
   "outputs": [],
   "source": [
    "#only need onceS\n",
    "def fetch_games_data(download_root=DOWNLOAD_ROOT, games_path=GAMES_PATH):\n",
    "    if not os.path.isdir(games_path):\n",
    "        os.makedirs(games_path)\n",
    "    for year in range(1993,2016):\n",
    "        begin = int(year)\n",
    "        end = str(begin + 1)\n",
    "        begin = str(begin)\n",
    "        begin = begin[-2:]\n",
    "        end = end[-2:]\n",
    "        season = begin + end\n",
    "        csv_path = os.path.join(games_path, \"games\"+ season +\".csv\")\n",
    "        games_url = DOWNLOAD_ROOT + season + \"/D1.csv\" # D1 = Bundesliga 1\n",
    "        urllib.request.urlretrieve(games_url, csv_path)"
   ]
  },
  {
   "cell_type": "code",
   "execution_count": 37,
   "metadata": {
    "collapsed": false
   },
   "outputs": [],
   "source": [
    "import pandas as pd\n",
    "import glob\n",
    "\n",
    "def load_games_data(games_path=GAMES_PATH):\n",
    "    for fn in ...:\n",
    "        csv_path = "
   ]
  },
  {
   "cell_type": "code",
   "execution_count": null,
   "metadata": {
    "collapsed": true
   },
   "outputs": [],
   "source": []
  }
 ],
 "metadata": {
  "anaconda-cloud": {},
  "kernelspec": {
   "display_name": "Python [default]",
   "language": "python",
   "name": "python3"
  },
  "language_info": {
   "codemirror_mode": {
    "name": "ipython",
    "version": 3
   },
   "file_extension": ".py",
   "mimetype": "text/x-python",
   "name": "python",
   "nbconvert_exporter": "python",
   "pygments_lexer": "ipython3",
   "version": "3.5.2"
  }
 },
 "nbformat": 4,
 "nbformat_minor": 1
}
