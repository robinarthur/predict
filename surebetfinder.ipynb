{
 "cells": [
  {
   "cell_type": "code",
   "execution_count": 2,
   "metadata": {},
   "outputs": [
    {
     "name": "stdout",
     "output_type": "stream",
     "text": [
      "0\n"
     ]
    }
   ],
   "source": [
    "# coding=utf8\n",
    "from urllib.request import urlopen\n",
    "from bs4 import BeautifulSoup\n",
    "import re\n",
    "max = 0\n",
    "\n",
    "entos = []\n",
    "ektos = []\n",
    "assoi =[]\n",
    "isopalies =[]\n",
    "dipla =[]\n",
    "\n",
    "url = urlopen(\"http://www.oddshelp.com/index.php?page=home&cmd=def\")\n",
    "content = url.read()\n",
    "soup = BeautifulSoup(content, 'lxml')\n",
    "\n",
    "for td in soup.findAll(\"td\", { \"class\":\"home greyb\" }):\n",
    "    entos.append(td.a.string)\n",
    "    assoi += re.findall(\"\\d+.\\d+\", str(td.a.string.encode('utf-8')))\n",
    "\n",
    "for td in soup.findAll(\"td\", { \"class\":\"draw lightgreyb\" }):\n",
    "    #print str(td.a.string.encode('utf-8'))\n",
    "    isopalies += re.findall(\"\\d+.\\d+\", str(td.a.string.encode('utf-8')))\n",
    "\n",
    "for td in soup.findAll(\"td\", { \"class\":\"away greyb\" }):\n",
    "    ektos.append(td.a.string)\n",
    "    dipla += re.findall(\"\\d+.\\d+\", str(td.a.string.encode('utf-8')))\n",
    "\n",
    "\n",
    "for x,y,z,en,ek in zip(assoi,isopalies,dipla,entos,ektos):\n",
    "    ganiota = 1 - ( 1 / ( (1/float(x)) + (1/float(y)) + (1/float(z)) ) )\n",
    "\n",
    "    if ( ganiota < 0 ):\n",
    "        kerdos = 100 - (100/float(x) + 100/float(y) + 100/float(z))\n",
    "        if kerdos > 10:\n",
    "            print(en.encode('utf-8')+\"\\t\"+ek.encode('utf-8'))\n",
    "            print(str(ganiota) + \" \\t\" +x+\" \\t\" +y+\" \\t\" +z )\n",
    "            print(str(100/float(x))+\" \\t\" +str(100/float(y))+\" \\t\" +str(100/float(z)))\n",
    "            print(\"KERDOS -> \" + str( kerdos)+\"\\n\\n\")\n",
    "\n",
    "        if ganiota < max:\n",
    "            max = ganiota\n",
    "\n",
    "print(max)"
   ]
  },
  {
   "cell_type": "code",
   "execution_count": null,
   "metadata": {},
   "outputs": [],
   "source": []
  }
 ],
 "metadata": {
  "kernelspec": {
   "display_name": "Python 3",
   "language": "python",
   "name": "python3"
  },
  "language_info": {
   "codemirror_mode": {
    "name": "ipython",
    "version": 3
   },
   "file_extension": ".py",
   "mimetype": "text/x-python",
   "name": "python",
   "nbconvert_exporter": "python",
   "pygments_lexer": "ipython3",
   "version": "3.6.4"
  }
 },
 "nbformat": 4,
 "nbformat_minor": 2
}
